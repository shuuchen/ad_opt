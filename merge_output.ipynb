{
 "cells": [
  {
   "cell_type": "code",
   "execution_count": 2,
   "metadata": {},
   "outputs": [],
   "source": [
    "import pandas as pd\n",
    "import os"
   ]
  },
  {
   "cell_type": "markdown",
   "metadata": {},
   "source": [
    "### format\n",
    "Impressions_Act\n",
    "Clicks_Act\n",
    "Cost_Act\n",
    "Sale_Act\n",
    "CpcBid_Act\n",
    "Impressions_Pred\n",
    "Clicks_Pred\n",
    "Cost_Pred\n",
    "Sale_Pred\n",
    "Market\n",
    "Media\n",
    "AdvertiserId\n",
    "AdvertiserName\n",
    "CampaignId\n",
    "CampaignName\n",
    "CategoryId\n",
    "CategoryName"
   ]
  },
  {
   "cell_type": "code",
   "execution_count": 5,
   "metadata": {},
   "outputs": [
    {
     "name": "stdout",
     "output_type": "stream",
     "text": [
      "ImpressionsSum\n",
      "ClicksSum\n",
      "CostSum\n",
      "CostSum\n",
      "ClicksSum\n",
      "ImpressionsSum\n",
      "ImpressionsSum\n",
      "ClicksSum\n",
      "CostSum\n",
      "CostSum\n",
      "ClicksSum\n",
      "ImpressionsSum\n"
     ]
    }
   ],
   "source": [
    "for task in ['skip', 'consistent']:\n",
    "    for test in [1, 2]:\n",
    "        in_dir = f'./pred_{task}_sum/output'\n",
    "        fs = [f for f in os.listdir(in_dir) if f'test{test}' in f and 'Sum' in f]\n",
    "\n",
    "        df = pd.read_excel(os.path.join(in_dir, f'SalesSum_test{test}.xlsx'), header=0)\n",
    "        df.set_index(['Unnamed: 0', 'Market', 'AdvertiserName', 'CampaignName', 'CategoryName'], inplace=True)\n",
    "        for f in fs:\n",
    "            if 'SalesSum' in f:\n",
    "                continue\n",
    "            item = f.split('_')[0]\n",
    "            print(item)\n",
    "            df1 = pd.read_excel(os.path.join(in_dir, f), header=0)\n",
    "            df1.set_index(['Unnamed: 0', 'Market', 'AdvertiserName', 'CampaignName', 'CategoryName'], inplace=True)\n",
    "            df = df.join(df1[f'{item}_pred'])\n",
    "\n",
    "        df = df[['SalesSum', 'CostSum', 'ImpressionsSum', 'ClicksSum',\n",
    "                 'SalesSum_pred', 'CostSum_pred', 'ImpressionsSum_pred', 'ClicksSum_pred',\n",
    "                 'AdvertiserId', 'CampaignId', 'CategoryId',\n",
    "                ]]\n",
    "        df['Media'] = 'Criteo'\n",
    "        df.head()\n",
    "        df.to_excel(os.path.join(in_dir, f'totalSum_test{test}.xlsx'))\n"
   ]
  },
  {
   "cell_type": "code",
   "execution_count": null,
   "metadata": {},
   "outputs": [],
   "source": []
  },
  {
   "cell_type": "code",
   "execution_count": null,
   "metadata": {},
   "outputs": [],
   "source": []
  }
 ],
 "metadata": {
  "kernelspec": {
   "display_name": "Python 3",
   "language": "python",
   "name": "python3"
  },
  "language_info": {
   "codemirror_mode": {
    "name": "ipython",
    "version": 3
   },
   "file_extension": ".py",
   "mimetype": "text/x-python",
   "name": "python",
   "nbconvert_exporter": "python",
   "pygments_lexer": "ipython3",
   "version": "3.7.4"
  }
 },
 "nbformat": 4,
 "nbformat_minor": 2
}
